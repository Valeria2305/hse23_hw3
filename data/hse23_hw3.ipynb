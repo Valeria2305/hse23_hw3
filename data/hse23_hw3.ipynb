{
  "cells": [
    {
      "cell_type": "markdown",
      "metadata": {
        "id": "YfiMhcdBg5DJ"
      },
      "source": [
        "# Устанавливаем java и ChromHmm"
      ]
    },
    {
      "cell_type": "code",
      "execution_count": 1,
      "metadata": {
        "colab": {
          "base_uri": "https://localhost:8080/"
        },
        "id": "yNnWpPB9g5nu",
        "outputId": "ec0e65af-e71d-4874-e959-191fcb5706b4"
      },
      "outputs": [
        {
          "output_type": "stream",
          "name": "stdout",
          "text": [
            "  % Total    % Received % Xferd  Average Speed   Time    Time     Time  Current\n",
            "                                 Dload  Upload   Total   Spent    Left  Speed\n",
            "\r  0     0    0     0    0     0      0      0 --:--:-- --:--:-- --:--:--     0\r100   155  100   155    0     0    711      0 --:--:-- --:--:-- --:--:--   711\n",
            "fix-colab-gpu.sh: line 5: nvcc: command not found\n"
          ]
        }
      ],
      "source": [
        "!curl -O https://raw.githubusercontent.com/deepjavalibrary/d2l-java/master/tools/fix-colab-gpu.sh && bash fix-colab-gpu.sh"
      ]
    },
    {
      "cell_type": "code",
      "execution_count": 2,
      "metadata": {
        "colab": {
          "base_uri": "https://localhost:8080/"
        },
        "id": "DlPFGox2g8Lo",
        "outputId": "ddf01547-b9fd-42d7-fa97-eb4ec4dc4f2e"
      },
      "outputs": [
        {
          "output_type": "stream",
          "name": "stdout",
          "text": [
            "  % Total    % Received % Xferd  Average Speed   Time    Time     Time  Current\n",
            "                                 Dload  Upload   Total   Spent    Left  Speed\n",
            "100   520  100   520    0     0   1750      0 --:--:-- --:--:-- --:--:--  1744\n",
            "Update environment...\n",
            "Install Java...\n",
            "Install Jupyter java kernel...\n"
          ]
        }
      ],
      "source": [
        "!curl -O https://raw.githubusercontent.com/deepjavalibrary/d2l-java/master/tools/colab_build.sh && bash colab_build.sh"
      ]
    },
    {
      "cell_type": "code",
      "execution_count": 3,
      "metadata": {
        "id": "r8myXyPKg_uC",
        "colab": {
          "base_uri": "https://localhost:8080/"
        },
        "outputId": "d00aa71e-dbe8-4a06-ddfe-e4bdcf7eba71"
      },
      "outputs": [
        {
          "output_type": "stream",
          "name": "stdout",
          "text": [
            "jdk.jshell@11.0.18\n"
          ]
        }
      ],
      "source": [
        "!java --list-modules | grep \"jdk.jshell\""
      ]
    },
    {
      "cell_type": "code",
      "execution_count": 4,
      "metadata": {
        "id": "147PFucghCQF",
        "colab": {
          "base_uri": "https://localhost:8080/"
        },
        "outputId": "c88ce235-5c4b-4b2e-bf5e-bd0ab626b523"
      },
      "outputs": [
        {
          "output_type": "stream",
          "name": "stdout",
          "text": [
            "--2023-04-03 10:12:39--  http://compbio.mit.edu/ChromHMM/ChromHMM.zip\n",
            "Resolving compbio.mit.edu (compbio.mit.edu)... 128.30.2.44\n",
            "Connecting to compbio.mit.edu (compbio.mit.edu)|128.30.2.44|:80... connected.\n",
            "HTTP request sent, awaiting response... 200 OK\n",
            "Length: 48940646 (47M) [application/zip]\n",
            "Saving to: ‘ChromHMM.zip’\n",
            "\n",
            "ChromHMM.zip        100%[===================>]  46.67M  27.5MB/s    in 1.7s    \n",
            "\n",
            "2023-04-03 10:12:41 (27.5 MB/s) - ‘ChromHMM.zip’ saved [48940646/48940646]\n",
            "\n"
          ]
        }
      ],
      "source": [
        "! wget http://compbio.mit.edu/ChromHMM/ChromHMM.zip"
      ]
    },
    {
      "cell_type": "code",
      "execution_count": 5,
      "metadata": {
        "id": "Xq22FUd5hGeF",
        "colab": {
          "base_uri": "https://localhost:8080/"
        },
        "outputId": "954e37ef-a151-40f1-a50b-0eb639847078"
      },
      "outputs": [
        {
          "output_type": "stream",
          "name": "stdout",
          "text": [
            "Archive:  /content/ChromHMM.zip\n",
            "   creating: ChromHMM/ANCHORFILES/\n",
            "   creating: ChromHMM/ANCHORFILES/ce10/\n",
            "  inflating: ChromHMM/ANCHORFILES/ce10/RefSeqTES.ce10.txt.gz  \n",
            "  inflating: ChromHMM/ANCHORFILES/ce10/RefSeqTSS.ce10.txt.gz  \n",
            "   creating: ChromHMM/ANCHORFILES/ce11/\n",
            "  inflating: ChromHMM/ANCHORFILES/ce11/RefSeqTES.ce11.txt.gz  \n",
            "  inflating: ChromHMM/ANCHORFILES/ce11/RefSeqTSS.ce11.txt.gz  \n",
            "   creating: ChromHMM/ANCHORFILES/ce6/\n",
            "  inflating: ChromHMM/ANCHORFILES/ce6/RefSeqTES.ce6.txt.gz  \n",
            "  inflating: ChromHMM/ANCHORFILES/ce6/RefSeqTSS.ce6.txt.gz  \n",
            "   creating: ChromHMM/ANCHORFILES/danRer10/\n",
            "  inflating: ChromHMM/ANCHORFILES/danRer10/RefSeqTES.danRer10.txt.gz  \n",
            "  inflating: ChromHMM/ANCHORFILES/danRer10/RefSeqTSS.danRer10.txt.gz  \n",
            "   creating: ChromHMM/ANCHORFILES/danRer11/\n",
            "  inflating: ChromHMM/ANCHORFILES/danRer11/RefSeqTES.danRer11.txt.gz  \n",
            "  inflating: ChromHMM/ANCHORFILES/danRer11/RefSeqTSS.danRer11.txt.gz  \n",
            "   creating: ChromHMM/ANCHORFILES/danRer7/\n",
            "  inflating: ChromHMM/ANCHORFILES/danRer7/RefSeqTES.danRer7.txt.gz  \n",
            "  inflating: ChromHMM/ANCHORFILES/danRer7/RefSeqTSS.danRer7.txt.gz  \n",
            "   creating: ChromHMM/ANCHORFILES/dm3/\n",
            "  inflating: ChromHMM/ANCHORFILES/dm3/RefSeqTES.dm3.txt.gz  \n",
            "  inflating: ChromHMM/ANCHORFILES/dm3/RefSeqTSS.dm3.txt.gz  \n",
            "   creating: ChromHMM/ANCHORFILES/dm6/\n",
            "  inflating: ChromHMM/ANCHORFILES/dm6/RefSeqTES.dm6.txt.gz  \n",
            "  inflating: ChromHMM/ANCHORFILES/dm6/RefSeqTSS.dm6.txt.gz  \n",
            "   creating: ChromHMM/ANCHORFILES/hg18/\n",
            "  inflating: ChromHMM/ANCHORFILES/hg18/RefSeqTES.hg18.txt.gz  \n",
            "  inflating: ChromHMM/ANCHORFILES/hg18/RefSeqTSS.hg18.txt.gz  \n",
            "   creating: ChromHMM/ANCHORFILES/hg19/\n",
            "  inflating: ChromHMM/ANCHORFILES/hg19/RefSeqTES.hg19.txt.gz  \n",
            "  inflating: ChromHMM/ANCHORFILES/hg19/RefSeqTSS.hg19.txt.gz  \n",
            "   creating: ChromHMM/ANCHORFILES/hg38/\n",
            "  inflating: ChromHMM/ANCHORFILES/hg38/RefSeqTES.hg38.txt.gz  \n",
            "  inflating: ChromHMM/ANCHORFILES/hg38/RefSeqTSS.hg38.txt.gz  \n",
            "   creating: ChromHMM/ANCHORFILES/hs1/\n",
            "  inflating: ChromHMM/ANCHORFILES/hs1/RefSeqTES.hs1.txt.gz  \n",
            "  inflating: ChromHMM/ANCHORFILES/hs1/RefSeqTSS.hs1.txt.gz  \n",
            "   creating: ChromHMM/ANCHORFILES/mm10/\n",
            "  inflating: ChromHMM/ANCHORFILES/mm10/RefSeqTES.mm10.txt.gz  \n",
            "  inflating: ChromHMM/ANCHORFILES/mm10/RefSeqTSS.mm10.txt.gz  \n",
            "   creating: ChromHMM/ANCHORFILES/mm39/\n",
            "  inflating: ChromHMM/ANCHORFILES/mm39/RefSeqTES.mm39.txt.gz  \n",
            "  inflating: ChromHMM/ANCHORFILES/mm39/RefSeqTSS.mm39.txt.gz  \n",
            "   creating: ChromHMM/ANCHORFILES/mm9/\n",
            "  inflating: ChromHMM/ANCHORFILES/mm9/RefSeqTES.mm9.txt.gz  \n",
            "  inflating: ChromHMM/ANCHORFILES/mm9/RefSeqTSS.mm9.txt.gz  \n",
            "   creating: ChromHMM/ANCHORFILES/rn5/\n",
            "  inflating: ChromHMM/ANCHORFILES/rn5/RefSeqTES.rn5.txt.gz  \n",
            "  inflating: ChromHMM/ANCHORFILES/rn5/RefSeqTSS.rn5.txt.gz  \n",
            "   creating: ChromHMM/ANCHORFILES/rn6/\n",
            "  inflating: ChromHMM/ANCHORFILES/rn6/RefSeqTES.rn6.txt.gz  \n",
            "  inflating: ChromHMM/ANCHORFILES/rn6/RefSeqTSS.rn6.txt.gz  \n",
            "  inflating: ChromHMM/ChromHMM.jar   \n",
            "  inflating: ChromHMM/ChromHMM_manual.pdf  \n",
            "   creating: ChromHMM/CHROMSIZES/\n",
            "  inflating: ChromHMM/CHROMSIZES/ce10.txt  \n",
            "  inflating: ChromHMM/CHROMSIZES/ce11.txt  \n",
            "  inflating: ChromHMM/CHROMSIZES/ce6.txt  \n",
            "  inflating: ChromHMM/CHROMSIZES/danRer10.txt  \n",
            "  inflating: ChromHMM/CHROMSIZES/danRer11.txt  \n",
            "  inflating: ChromHMM/CHROMSIZES/danRer7.txt  \n",
            "  inflating: ChromHMM/CHROMSIZES/dm3.txt  \n",
            "  inflating: ChromHMM/CHROMSIZES/dm6.txt  \n",
            "  inflating: ChromHMM/CHROMSIZES/hg18.txt  \n",
            "  inflating: ChromHMM/CHROMSIZES/hg19.txt  \n",
            "  inflating: ChromHMM/CHROMSIZES/hg38.txt  \n",
            "  inflating: ChromHMM/CHROMSIZES/hs1.txt  \n",
            "  inflating: ChromHMM/CHROMSIZES/mm10.txt  \n",
            "  inflating: ChromHMM/CHROMSIZES/mm39.txt  \n",
            "  inflating: ChromHMM/CHROMSIZES/mm9.txt  \n",
            "  inflating: ChromHMM/CHROMSIZES/rn5.txt  \n",
            "  inflating: ChromHMM/CHROMSIZES/rn6.txt  \n",
            "   creating: ChromHMM/COORDS/\n",
            "   creating: ChromHMM/COORDS/ce10/\n",
            "  inflating: ChromHMM/COORDS/ce10/RefSeqExon.ce10.bed.gz  \n",
            "  inflating: ChromHMM/COORDS/ce10/RefSeqGene.ce10.bed.gz  \n",
            "  inflating: ChromHMM/COORDS/ce10/RefSeqTES.ce10.bed.gz  \n",
            "  inflating: ChromHMM/COORDS/ce10/RefSeqTSS.ce10.bed.gz  \n",
            "  inflating: ChromHMM/COORDS/ce10/RefSeqTSS2kb.ce10.bed.gz  \n",
            "   creating: ChromHMM/COORDS/ce11/\n",
            "  inflating: ChromHMM/COORDS/ce11/RefSeqExon.ce11.bed.gz  \n",
            "  inflating: ChromHMM/COORDS/ce11/RefSeqGene.ce11.bed.gz  \n",
            "  inflating: ChromHMM/COORDS/ce11/RefSeqTES.ce11.bed.gz  \n",
            "  inflating: ChromHMM/COORDS/ce11/RefSeqTSS.ce11.bed.gz  \n",
            "  inflating: ChromHMM/COORDS/ce11/RefSeqTSS2kb.ce11.bed.gz  \n",
            "   creating: ChromHMM/COORDS/ce6/\n",
            "  inflating: ChromHMM/COORDS/ce6/RefSeqExon.ce6.bed.gz  \n",
            "  inflating: ChromHMM/COORDS/ce6/RefSeqGene.ce6.bed.gz  \n",
            "  inflating: ChromHMM/COORDS/ce6/RefSeqTES.ce6.bed.gz  \n",
            "  inflating: ChromHMM/COORDS/ce6/RefSeqTSS.ce6.bed.gz  \n",
            "  inflating: ChromHMM/COORDS/ce6/RefSeqTSS2kb.ce6.bed.gz  \n",
            "   creating: ChromHMM/COORDS/danRer10/\n",
            "  inflating: ChromHMM/COORDS/danRer10/RefSeqExon.danRer10.bed.gz  \n",
            "  inflating: ChromHMM/COORDS/danRer10/RefSeqGene.danRer10.bed.gz  \n",
            "  inflating: ChromHMM/COORDS/danRer10/RefSeqTES.danRer10.bed.gz  \n",
            "  inflating: ChromHMM/COORDS/danRer10/RefSeqTSS.danRer10.bed.gz  \n",
            "  inflating: ChromHMM/COORDS/danRer10/RefSeqTSS2kb.danRer10.bed.gz  \n",
            "   creating: ChromHMM/COORDS/danRer11/\n",
            "  inflating: ChromHMM/COORDS/danRer11/RefSeqExon.danRer11.bed.gz  \n",
            "  inflating: ChromHMM/COORDS/danRer11/RefSeqGene.danRer11.bed.gz  \n",
            "  inflating: ChromHMM/COORDS/danRer11/RefSeqTES.danRer11.bed.gz  \n",
            "  inflating: ChromHMM/COORDS/danRer11/RefSeqTSS.danRer11.bed.gz  \n",
            "  inflating: ChromHMM/COORDS/danRer11/RefSeqTSS2kb.danRer11.bed.gz  \n",
            "   creating: ChromHMM/COORDS/danRer7/\n",
            "  inflating: ChromHMM/COORDS/danRer7/RefSeqExon.danRer7.bed.gz  \n",
            "  inflating: ChromHMM/COORDS/danRer7/RefSeqGene.danRer7.bed.gz  \n",
            "  inflating: ChromHMM/COORDS/danRer7/RefSeqTES.danRer7.bed.gz  \n",
            "  inflating: ChromHMM/COORDS/danRer7/RefSeqTSS.danRer7.bed.gz  \n",
            "  inflating: ChromHMM/COORDS/danRer7/RefSeqTSS2kb.danRer7.bed.gz  \n",
            "   creating: ChromHMM/COORDS/dm3/\n",
            "  inflating: ChromHMM/COORDS/dm3/RefSeqExon.dm3.bed.gz  \n",
            "  inflating: ChromHMM/COORDS/dm3/RefSeqGene.dm3.bed.gz  \n",
            "  inflating: ChromHMM/COORDS/dm3/RefSeqTES.dm3.bed.gz  \n",
            "  inflating: ChromHMM/COORDS/dm3/RefSeqTSS.dm3.bed.gz  \n",
            "  inflating: ChromHMM/COORDS/dm3/RefSeqTSS2kb.dm3.bed.gz  \n",
            "   creating: ChromHMM/COORDS/dm6/\n",
            "  inflating: ChromHMM/COORDS/dm6/RefSeqExon.dm6.bed.gz  \n",
            "  inflating: ChromHMM/COORDS/dm6/RefSeqGene.dm6.bed.gz  \n",
            "  inflating: ChromHMM/COORDS/dm6/RefSeqTES.dm6.bed.gz  \n",
            "  inflating: ChromHMM/COORDS/dm6/RefSeqTSS.dm6.bed.gz  \n",
            "  inflating: ChromHMM/COORDS/dm6/RefSeqTSS2kb.dm6.bed.gz  \n",
            "   creating: ChromHMM/COORDS/hg18/\n",
            "  inflating: ChromHMM/COORDS/hg18/CpGIsland.hg18.bed.gz  \n",
            " extracting: ChromHMM/COORDS/hg18/laminB1lads.hg18.bed.gz  \n",
            "  inflating: ChromHMM/COORDS/hg18/RefSeqExon.hg18.bed.gz  \n",
            "  inflating: ChromHMM/COORDS/hg18/RefSeqGene.hg18.bed.gz  \n",
            "  inflating: ChromHMM/COORDS/hg18/RefSeqTES.hg18.bed.gz  \n",
            "  inflating: ChromHMM/COORDS/hg18/RefSeqTSS.hg18.bed.gz  \n",
            "  inflating: ChromHMM/COORDS/hg18/RefSeqTSS2kb.hg18.bed.gz  \n",
            "   creating: ChromHMM/COORDS/hg19/\n",
            "  inflating: ChromHMM/COORDS/hg19/CpGIsland.hg19.bed.gz  \n",
            " extracting: ChromHMM/COORDS/hg19/laminB1lads.hg19.bed.gz  \n",
            "  inflating: ChromHMM/COORDS/hg19/RefSeqExon.hg19.bed.gz  \n",
            "  inflating: ChromHMM/COORDS/hg19/RefSeqGene.hg19.bed.gz  \n",
            "  inflating: ChromHMM/COORDS/hg19/RefSeqTES.hg19.bed.gz  \n",
            "  inflating: ChromHMM/COORDS/hg19/RefSeqTSS.hg19.bed.gz  \n",
            "  inflating: ChromHMM/COORDS/hg19/RefSeqTSS2kb.hg19.bed.gz  \n",
            "   creating: ChromHMM/COORDS/hg38/\n",
            "  inflating: ChromHMM/COORDS/hg38/CpGIsland.hg38.bed.gz  \n",
            "  inflating: ChromHMM/COORDS/hg38/RefSeqExon.hg38.bed.gz  \n",
            "  inflating: ChromHMM/COORDS/hg38/RefSeqGene.hg38.bed.gz  \n",
            "  inflating: ChromHMM/COORDS/hg38/RefSeqTES.hg38.bed.gz  \n",
            "  inflating: ChromHMM/COORDS/hg38/RefSeqTSS.hg38.bed.gz  \n",
            "  inflating: ChromHMM/COORDS/hg38/RefSeqTSS2kb.hg38.bed.gz  \n",
            "   creating: ChromHMM/COORDS/hs1/\n",
            "  inflating: ChromHMM/COORDS/hs1/CpGIsland.hs1.bed.gz  \n",
            "  inflating: ChromHMM/COORDS/hs1/RefSeqExon.hs1.bed.gz  \n",
            "  inflating: ChromHMM/COORDS/hs1/RefSeqGene.hs1.bed.gz  \n",
            "  inflating: ChromHMM/COORDS/hs1/RefSeqTES.hs1.bed.gz  \n",
            "  inflating: ChromHMM/COORDS/hs1/RefSeqTSS.hs1.bed.gz  \n",
            "  inflating: ChromHMM/COORDS/hs1/RefSeqTSS2kb.hs1.bed.gz  \n",
            "   creating: ChromHMM/COORDS/mm10/\n",
            "  inflating: ChromHMM/COORDS/mm10/CpGIsland.mm10.bed.gz  \n",
            "  inflating: ChromHMM/COORDS/mm10/RefSeqExon.mm10.bed.gz  \n",
            "  inflating: ChromHMM/COORDS/mm10/RefSeqGene.mm10.bed.gz  \n",
            "  inflating: ChromHMM/COORDS/mm10/RefSeqTES.mm10.bed.gz  \n",
            "  inflating: ChromHMM/COORDS/mm10/RefSeqTSS.mm10.bed.gz  \n",
            "  inflating: ChromHMM/COORDS/mm10/RefSeqTSS2kb.mm10.bed.gz  \n",
            "   creating: ChromHMM/COORDS/mm39/\n",
            "  inflating: ChromHMM/COORDS/mm39/CpGIsland.mm39.bed.gz  \n",
            "  inflating: ChromHMM/COORDS/mm39/RefSeqExon.mm39.bed.gz  \n",
            "  inflating: ChromHMM/COORDS/mm39/RefSeqGene.mm39.bed.gz  \n",
            "  inflating: ChromHMM/COORDS/mm39/RefSeqTES.mm39.bed.gz  \n",
            "  inflating: ChromHMM/COORDS/mm39/RefSeqTSS.mm39.bed.gz  \n",
            "  inflating: ChromHMM/COORDS/mm39/RefSeqTSS2kb.mm39.bed.gz  \n",
            "   creating: ChromHMM/COORDS/mm9/\n",
            "  inflating: ChromHMM/COORDS/mm9/CpGIsland.mm9.bed.gz  \n",
            "  inflating: ChromHMM/COORDS/mm9/RefSeqExon.mm9.bed.gz  \n",
            "  inflating: ChromHMM/COORDS/mm9/RefSeqGene.mm9.bed.gz  \n",
            "  inflating: ChromHMM/COORDS/mm9/RefSeqTES.mm9.bed.gz  \n",
            "  inflating: ChromHMM/COORDS/mm9/RefSeqTSS.mm9.bed.gz  \n",
            "  inflating: ChromHMM/COORDS/mm9/RefSeqTSS2kb.mm9.bed.gz  \n",
            "   creating: ChromHMM/COORDS/rn5/\n",
            "  inflating: ChromHMM/COORDS/rn5/CpGIsland.rn5.bed.gz  \n",
            "  inflating: ChromHMM/COORDS/rn5/RefSeqExon.rn5.bed.gz  \n",
            "  inflating: ChromHMM/COORDS/rn5/RefSeqGene.rn5.bed.gz  \n",
            "  inflating: ChromHMM/COORDS/rn5/RefSeqTES.rn5.bed.gz  \n",
            "  inflating: ChromHMM/COORDS/rn5/RefSeqTSS.rn5.bed.gz  \n",
            "  inflating: ChromHMM/COORDS/rn5/RefSeqTSS2kb.rn5.bed.gz  \n",
            "   creating: ChromHMM/COORDS/rn6/\n",
            "  inflating: ChromHMM/COORDS/rn6/CpGIsland.rn6.bed.gz  \n",
            "  inflating: ChromHMM/COORDS/rn6/RefSeqExon.rn6.bed.gz  \n",
            "  inflating: ChromHMM/COORDS/rn6/RefSeqGene.rn6.bed.gz  \n",
            "  inflating: ChromHMM/COORDS/rn6/RefSeqTES.rn6.bed.gz  \n",
            "  inflating: ChromHMM/COORDS/rn6/RefSeqTSS.rn6.bed.gz  \n",
            "  inflating: ChromHMM/COORDS/rn6/RefSeqTSS2kb.rn6.bed.gz  \n",
            "   creating: ChromHMM/SAMPLEDATA_HG18/\n",
            "  inflating: ChromHMM/SAMPLEDATA_HG18/GM12878_chr11_binary.txt.gz  \n",
            "  inflating: ChromHMM/SAMPLEDATA_HG18/K562_chr11_binary.txt.gz  \n",
            "   creating: ChromHMM/SRC/\n",
            "   creating: ChromHMM/SRC/edu/\n",
            "   creating: ChromHMM/SRC/edu/mit/\n",
            "   creating: ChromHMM/SRC/edu/mit/compbio/\n",
            "   creating: ChromHMM/SRC/edu/mit/compbio/ChromHMM/\n",
            "  inflating: ChromHMM/SRC/edu/mit/compbio/ChromHMM/BrowserOutput.java  \n",
            "  inflating: ChromHMM/SRC/edu/mit/compbio/ChromHMM/ChromHMM.java  \n",
            "  inflating: ChromHMM/SRC/edu/mit/compbio/ChromHMM/ConvertGeneTable.java  \n",
            "  inflating: ChromHMM/SRC/edu/mit/compbio/ChromHMM/NestedEliminateInitialize.java  \n",
            "  inflating: ChromHMM/SRC/edu/mit/compbio/ChromHMM/Preprocessing.java  \n",
            "  inflating: ChromHMM/SRC/edu/mit/compbio/ChromHMM/StateAnalysis.java  \n",
            "  inflating: ChromHMM/SRC/edu/mit/compbio/ChromHMM/Util.java  \n",
            "   creating: ChromHMM/SRC/org/\n",
            "   creating: ChromHMM/SRC/org/tc33/\n",
            "   creating: ChromHMM/SRC/org/tc33/jheatchart/\n",
            "  inflating: ChromHMM/SRC/org/tc33/jheatchart/HeatChart.java  \n",
            "  inflating: ChromHMM/versionlog.txt  \n"
          ]
        }
      ],
      "source": [
        "!unzip /content/ChromHMM.zip"
      ]
    },
    {
      "cell_type": "markdown",
      "metadata": {
        "id": "q15nyBvKhIks"
      },
      "source": [
        "## Скачиваем файлы"
      ]
    },
    {
      "cell_type": "markdown",
      "source": [
        "Во втором домашнем задании мной была выбрана клеточная линия MCF-7, однако для этой клеточной линии на сайте UCSC нет гистоновых меток, поэтому я взяла другую клеточную линию Dnd41 и выбрала для нее 10 гистоновых меток."
      ],
      "metadata": {
        "id": "JgwqnlmHmnxt"
      }
    },
    {
      "cell_type": "code",
      "execution_count": 7,
      "metadata": {
        "id": "IltD4Gy6w7ei",
        "colab": {
          "base_uri": "https://localhost:8080/"
        },
        "outputId": "12d08a05-9e89-492d-8921-9bf3dca6b6df"
      },
      "outputs": [
        {
          "output_type": "stream",
          "name": "stdout",
          "text": [
            "--2023-04-03 10:36:20--  http://hgdownload.cse.ucsc.edu/goldenPath/hg19/encodeDCC/wgEncodeBroadHistone/wgEncodeBroadHistoneDnd41H2azAlnRep1.bam\n",
            "Resolving hgdownload.cse.ucsc.edu (hgdownload.cse.ucsc.edu)... 128.114.119.163\n",
            "Connecting to hgdownload.cse.ucsc.edu (hgdownload.cse.ucsc.edu)|128.114.119.163|:80... connected.\n",
            "HTTP request sent, awaiting response... 200 OK\n",
            "Length: 1365570218 (1.3G) [application/octet-stream]\n",
            "Saving to: ‘h2az.bam’\n",
            "\n",
            "h2az.bam            100%[===================>]   1.27G   152MB/s    in 8.8s    \n",
            "\n",
            "2023-04-03 10:36:29 (147 MB/s) - ‘h2az.bam’ saved [1365570218/1365570218]\n",
            "\n",
            "--2023-04-03 10:36:29--  http://hgdownload.cse.ucsc.edu/goldenPath/hg19/encodeDCC/wgEncodeBroadHistone/wgEncodeBroadHistoneDnd41H3k04me1AlnRep1.bam\n",
            "Resolving hgdownload.cse.ucsc.edu (hgdownload.cse.ucsc.edu)... 128.114.119.163\n",
            "Connecting to hgdownload.cse.ucsc.edu (hgdownload.cse.ucsc.edu)|128.114.119.163|:80... connected.\n",
            "HTTP request sent, awaiting response... 200 OK\n",
            "Length: 1166471220 (1.1G) [application/octet-stream]\n",
            "Saving to: ‘H3k04me1.bam’\n",
            "\n",
            "H3k04me1.bam        100%[===================>]   1.09G   115MB/s    in 11s     \n",
            "\n",
            "2023-04-03 10:36:41 (99.8 MB/s) - ‘H3k04me1.bam’ saved [1166471220/1166471220]\n",
            "\n",
            "--2023-04-03 10:36:41--  http://hgdownload.cse.ucsc.edu/goldenPath/hg19/encodeDCC/wgEncodeBroadHistone/wgEncodeBroadHistoneDnd41H3k04me2AlnRep1.bam\n",
            "Resolving hgdownload.cse.ucsc.edu (hgdownload.cse.ucsc.edu)... 128.114.119.163\n",
            "Connecting to hgdownload.cse.ucsc.edu (hgdownload.cse.ucsc.edu)|128.114.119.163|:80... connected.\n",
            "HTTP request sent, awaiting response... 200 OK\n",
            "Length: 1120577001 (1.0G) [application/octet-stream]\n",
            "Saving to: ‘H3k04me2.bam’\n",
            "\n",
            "H3k04me2.bam        100%[===================>]   1.04G   114MB/s    in 8.3s    \n",
            "\n",
            "2023-04-03 10:36:49 (128 MB/s) - ‘H3k04me2.bam’ saved [1120577001/1120577001]\n",
            "\n",
            "--2023-04-03 10:36:49--  http://hgdownload.cse.ucsc.edu/goldenPath/hg19/encodeDCC/wgEncodeBroadHistone/wgEncodeBroadHistoneDnd41H3k09me3AlnRep1.bam\n",
            "Resolving hgdownload.cse.ucsc.edu (hgdownload.cse.ucsc.edu)... 128.114.119.163\n",
            "Connecting to hgdownload.cse.ucsc.edu (hgdownload.cse.ucsc.edu)|128.114.119.163|:80... connected.\n",
            "HTTP request sent, awaiting response... 200 OK\n",
            "Length: 1103486625 (1.0G) [application/octet-stream]\n",
            "Saving to: ‘H3k09me3.bam’\n",
            "\n",
            "H3k09me3.bam        100%[===================>]   1.03G   146MB/s    in 7.4s    \n",
            "\n",
            "2023-04-03 10:36:57 (143 MB/s) - ‘H3k09me3.bam’ saved [1103486625/1103486625]\n",
            "\n",
            "--2023-04-03 10:36:57--  http://hgdownload.cse.ucsc.edu/goldenPath/hg19/encodeDCC/wgEncodeBroadHistone/wgEncodeBroadHistoneDnd41H3k27acAlnRep1.bam\n",
            "Resolving hgdownload.cse.ucsc.edu (hgdownload.cse.ucsc.edu)... 128.114.119.163\n",
            "Connecting to hgdownload.cse.ucsc.edu (hgdownload.cse.ucsc.edu)|128.114.119.163|:80... connected.\n",
            "HTTP request sent, awaiting response... 200 OK\n",
            "Length: 1488790047 (1.4G) [application/octet-stream]\n",
            "Saving to: ‘H3k27ac.bam’\n",
            "\n",
            "H3k27ac.bam         100%[===================>]   1.39G   153MB/s    in 10s     \n",
            "\n",
            "2023-04-03 10:37:07 (139 MB/s) - ‘H3k27ac.bam’ saved [1488790047/1488790047]\n",
            "\n",
            "--2023-04-03 10:37:07--  http://hgdownload.cse.ucsc.edu/goldenPath/hg19/encodeDCC/wgEncodeBroadHistone/wgEncodeBroadHistoneDnd41H3k36me3AlnRep1.bam\n",
            "Resolving hgdownload.cse.ucsc.edu (hgdownload.cse.ucsc.edu)... 128.114.119.163\n",
            "Connecting to hgdownload.cse.ucsc.edu (hgdownload.cse.ucsc.edu)|128.114.119.163|:80... connected.\n",
            "HTTP request sent, awaiting response... 200 OK\n",
            "Length: 1425221160 (1.3G) [application/octet-stream]\n",
            "Saving to: ‘H3k36me3.bam’\n",
            "\n",
            "H3k36me3.bam        100%[===================>]   1.33G   146MB/s    in 9.3s    \n",
            "\n",
            "2023-04-03 10:37:17 (147 MB/s) - ‘H3k36me3.bam’ saved [1425221160/1425221160]\n",
            "\n",
            "--2023-04-03 10:37:17--  http://hgdownload.cse.ucsc.edu/goldenPath/hg19/encodeDCC/wgEncodeBroadHistone/wgEncodeBroadHistoneDnd41H4k20me1AlnRep1.bam\n",
            "Resolving hgdownload.cse.ucsc.edu (hgdownload.cse.ucsc.edu)... 128.114.119.163\n",
            "Connecting to hgdownload.cse.ucsc.edu (hgdownload.cse.ucsc.edu)|128.114.119.163|:80... connected.\n",
            "HTTP request sent, awaiting response... 200 OK\n",
            "Length: 1500857141 (1.4G) [application/octet-stream]\n",
            "Saving to: ‘H4k20me1.bam’\n",
            "\n",
            "H4k20me1.bam        100%[===================>]   1.40G   155MB/s    in 9.2s    \n",
            "\n",
            "2023-04-03 10:37:26 (156 MB/s) - ‘H4k20me1.bam’ saved [1500857141/1500857141]\n",
            "\n",
            "--2023-04-03 10:37:26--  http://hgdownload.cse.ucsc.edu/goldenPath/hg19/encodeDCC/wgEncodeBroadHistone/wgEncodeBroadHistoneDnd41H3k79me2AlnRep1.bam\n",
            "Resolving hgdownload.cse.ucsc.edu (hgdownload.cse.ucsc.edu)... 128.114.119.163\n",
            "Connecting to hgdownload.cse.ucsc.edu (hgdownload.cse.ucsc.edu)|128.114.119.163|:80... connected.\n",
            "HTTP request sent, awaiting response... 200 OK\n",
            "Length: 1452123141 (1.4G) [application/octet-stream]\n",
            "Saving to: ‘H3k79me2.bam’\n",
            "\n",
            "H3k79me2.bam        100%[===================>]   1.35G   154MB/s    in 9.3s    \n",
            "\n",
            "2023-04-03 10:37:35 (148 MB/s) - ‘H3k79me2.bam’ saved [1452123141/1452123141]\n",
            "\n",
            "--2023-04-03 10:37:35--  http://hgdownload.cse.ucsc.edu/goldenPath/hg19/encodeDCC/wgEncodeBroadHistone/wgEncodeBroadHistoneDnd41H3k09acAlnRep1.bam\n",
            "Resolving hgdownload.cse.ucsc.edu (hgdownload.cse.ucsc.edu)... 128.114.119.163\n",
            "Connecting to hgdownload.cse.ucsc.edu (hgdownload.cse.ucsc.edu)|128.114.119.163|:80... connected.\n",
            "HTTP request sent, awaiting response... 200 OK\n",
            "Length: 1228857874 (1.1G) [application/octet-stream]\n",
            "Saving to: ‘H3k09ac.bam’\n",
            "\n",
            "H3k09ac.bam         100%[===================>]   1.14G   159MB/s    in 8.0s    \n",
            "\n",
            "2023-04-03 10:37:44 (147 MB/s) - ‘H3k09ac.bam’ saved [1228857874/1228857874]\n",
            "\n",
            "--2023-04-03 10:37:44--  http://hgdownload.cse.ucsc.edu/goldenPath/hg19/encodeDCC/wgEncodeBroadHistone/wgEncodeBroadHistoneDnd41Ezh239875AlnRep1.bam\n",
            "Resolving hgdownload.cse.ucsc.edu (hgdownload.cse.ucsc.edu)... 128.114.119.163\n",
            "Connecting to hgdownload.cse.ucsc.edu (hgdownload.cse.ucsc.edu)|128.114.119.163|:80... connected.\n",
            "HTTP request sent, awaiting response... 200 OK\n",
            "Length: 826472269 (788M) [application/octet-stream]\n",
            "Saving to: ‘Ezh239875.bam’\n",
            "\n",
            "Ezh239875.bam       100%[===================>] 788.18M   159MB/s    in 5.3s    \n",
            "\n",
            "2023-04-03 10:37:49 (150 MB/s) - ‘Ezh239875.bam’ saved [826472269/826472269]\n",
            "\n",
            "--2023-04-03 10:37:49--  http://hgdownload.cse.ucsc.edu/goldenPath/hg19/encodeDCC/wgEncodeBroadHistone/wgEncodeBroadHistoneDnd41ControlStdAlnRep1.bam\n",
            "Resolving hgdownload.cse.ucsc.edu (hgdownload.cse.ucsc.edu)... 128.114.119.163\n",
            "Connecting to hgdownload.cse.ucsc.edu (hgdownload.cse.ucsc.edu)|128.114.119.163|:80... connected.\n",
            "HTTP request sent, awaiting response... 200 OK\n",
            "Length: 1650447405 (1.5G) [application/octet-stream]\n",
            "Saving to: ‘control.bam’\n",
            "\n",
            "control.bam         100%[===================>]   1.54G   159MB/s    in 10s     \n",
            "\n",
            "2023-04-03 10:37:59 (154 MB/s) - ‘control.bam’ saved [1650447405/1650447405]\n",
            "\n"
          ]
        }
      ],
      "source": [
        "! wget http://hgdownload.cse.ucsc.edu/goldenPath/hg19/encodeDCC/wgEncodeBroadHistone/wgEncodeBroadHistoneDnd41H2azAlnRep1.bam -O h2az.bam \n",
        "! wget http://hgdownload.cse.ucsc.edu/goldenPath/hg19/encodeDCC/wgEncodeBroadHistone/wgEncodeBroadHistoneDnd41H3k04me1AlnRep1.bam -O H3k04me1.bam \n",
        "! wget http://hgdownload.cse.ucsc.edu/goldenPath/hg19/encodeDCC/wgEncodeBroadHistone/wgEncodeBroadHistoneDnd41H3k04me2AlnRep1.bam -O H3k04me2.bam\n",
        "! wget http://hgdownload.cse.ucsc.edu/goldenPath/hg19/encodeDCC/wgEncodeBroadHistone/wgEncodeBroadHistoneDnd41H3k09me3AlnRep1.bam -O H3k09me3.bam\n",
        "! wget http://hgdownload.cse.ucsc.edu/goldenPath/hg19/encodeDCC/wgEncodeBroadHistone/wgEncodeBroadHistoneDnd41H3k27acAlnRep1.bam -O H3k27ac.bam\n",
        "! wget http://hgdownload.cse.ucsc.edu/goldenPath/hg19/encodeDCC/wgEncodeBroadHistone/wgEncodeBroadHistoneDnd41H3k36me3AlnRep1.bam -O H3k36me3.bam\n",
        "! wget http://hgdownload.cse.ucsc.edu/goldenPath/hg19/encodeDCC/wgEncodeBroadHistone/wgEncodeBroadHistoneDnd41H4k20me1AlnRep1.bam -O H4k20me1.bam\n",
        "! wget http://hgdownload.cse.ucsc.edu/goldenPath/hg19/encodeDCC/wgEncodeBroadHistone/wgEncodeBroadHistoneDnd41H3k79me2AlnRep1.bam -O H3k79me2.bam\n",
        "! wget http://hgdownload.cse.ucsc.edu/goldenPath/hg19/encodeDCC/wgEncodeBroadHistone/wgEncodeBroadHistoneDnd41H3k09acAlnRep1.bam -O H3k09ac.bam\n",
        "! wget http://hgdownload.cse.ucsc.edu/goldenPath/hg19/encodeDCC/wgEncodeBroadHistone/wgEncodeBroadHistoneDnd41Ezh239875AlnRep1.bam -O Ezh239875.bam\n",
        "! wget http://hgdownload.cse.ucsc.edu/goldenPath/hg19/encodeDCC/wgEncodeBroadHistone/wgEncodeBroadHistoneDnd41ControlStdAlnRep1.bam -O control.bam\n"
      ]
    },
    {
      "cell_type": "markdown",
      "source": [
        "* Вручную создаем текстовый файл cellmarkfiletable.txt, в котором указываем название типа клеток, разных гистоновых меток, а также соответствующие .bam файлы для эксперимента и контроля. Один и тот же контрольный файл .bam может быть использован для всех экспериментов.\n",
        "\n",
        "* Более подробно о содержании файла cellmarkfiletable.txt можно посмотреть в руководстве пользователя ChromHMM\n",
        "\n",
        "* Файл cellmarkfiletable.txt добавляем в github репозиторий для отчета"
      ],
      "metadata": {
        "id": "mrIHxRgVxWIg"
      }
    },
    {
      "cell_type": "markdown",
      "source": [
        "Запускаем ChromHMM с опцией BinarizeBam, чтобы конвертировать профили из ChIP-seq экспериментов (bam-файлы) в табличку из 0 и 1, т.е. чтобы сделать разбивку генома на условные интервалы (бины) длиной 200 п.о.\n",
        "Для 11 меток программа работает около 5 мин"
      ],
      "metadata": {
        "id": "AXoYWAR2xq_E"
      }
    },
    {
      "cell_type": "code",
      "source": [
        "import os\n",
        "\n",
        "control = 'control.bam'\n",
        "\n",
        "with open(f'cellmarkfiletable.txt', 'a') as the_file:\n",
        "  for file in os.listdir():\n",
        "    if file[-3:] == 'bam' and \"control\" not in file:\n",
        "      the_file.write(f'Dnd41\\t{file[:-4]}\\t{file}\\t{control}\\n')"
      ],
      "metadata": {
        "id": "tyT6-Qzx_eT_"
      },
      "execution_count": 29,
      "outputs": []
    },
    {
      "cell_type": "code",
      "source": [
        "!java -mx5000M -jar /content/ChromHMM/ChromHMM.jar BinarizeBam -b 200  /content/ChromHMM/CHROMSIZES/hg19.txt /content/ cellmarkfiletable.txt   binarizedData\n"
      ],
      "metadata": {
        "colab": {
          "base_uri": "https://localhost:8080/"
        },
        "id": "GcVBvuQZfzb8",
        "outputId": "710ccfe5-8b01-4620-df7d-da89b8fb7ddb"
      },
      "execution_count": 31,
      "outputs": [
        {
          "output_type": "stream",
          "name": "stdout",
          "text": [
            "Writing to file binarizedData/Dnd41_chr1_binary.txt\n",
            "Writing to file binarizedData/Dnd41_chr2_binary.txt\n",
            "Writing to file binarizedData/Dnd41_chr3_binary.txt\n",
            "Writing to file binarizedData/Dnd41_chr4_binary.txt\n",
            "Writing to file binarizedData/Dnd41_chr5_binary.txt\n",
            "Writing to file binarizedData/Dnd41_chr6_binary.txt\n",
            "Writing to file binarizedData/Dnd41_chr7_binary.txt\n",
            "Writing to file binarizedData/Dnd41_chrX_binary.txt\n",
            "Writing to file binarizedData/Dnd41_chr8_binary.txt\n",
            "Writing to file binarizedData/Dnd41_chr9_binary.txt\n",
            "Writing to file binarizedData/Dnd41_chr10_binary.txt\n",
            "Writing to file binarizedData/Dnd41_chr11_binary.txt\n",
            "Writing to file binarizedData/Dnd41_chr12_binary.txt\n",
            "Writing to file binarizedData/Dnd41_chr13_binary.txt\n",
            "Writing to file binarizedData/Dnd41_chr14_binary.txt\n",
            "Writing to file binarizedData/Dnd41_chr15_binary.txt\n",
            "Writing to file binarizedData/Dnd41_chr16_binary.txt\n",
            "Writing to file binarizedData/Dnd41_chr17_binary.txt\n",
            "Writing to file binarizedData/Dnd41_chr18_binary.txt\n",
            "Writing to file binarizedData/Dnd41_chr20_binary.txt\n",
            "Writing to file binarizedData/Dnd41_chrY_binary.txt\n",
            "Writing to file binarizedData/Dnd41_chr19_binary.txt\n",
            "Writing to file binarizedData/Dnd41_chr22_binary.txt\n",
            "Writing to file binarizedData/Dnd41_chr21_binary.txt\n",
            "Writing to file binarizedData/Dnd41_chrM_binary.txt\n"
          ]
        }
      ]
    },
    {
      "cell_type": "markdown",
      "source": [
        "Запускаем ChromHMM с опцией LearnModel (см. руководство пользователя), которая автоматически определит параметры N разных эпигенетических типов с наиболее выраженными наборами гистоновых меток и присвоит каждому геномному интервалу определенный эпигенетический тип. Количество разных эпигенетических типов (или состояний) выбираете сами (например 10 штук).\n",
        "Не забудьте, что мы работаем с версией референсного генома человека hg19\n",
        "Для 11 меток программа работает около 10 минут"
      ],
      "metadata": {
        "id": "0ps9yKUlz8Gu"
      }
    },
    {
      "cell_type": "code",
      "source": [
        "!java -mx5000M -jar /content/ChromHMM/ChromHMM.jar LearnModel -b 200 binarizedData LearnModel_output 10 hg19"
      ],
      "metadata": {
        "colab": {
          "base_uri": "https://localhost:8080/"
        },
        "id": "FgCrJXaf4Ow0",
        "outputId": "4f4d5001-b717-4847-cb42-fd4015fa6ef8"
      },
      "execution_count": 32,
      "outputs": [
        {
          "output_type": "stream",
          "name": "stdout",
          "text": [
            "Writing to file LearnModel_output/transitions_10.txt\n",
            "Writing to file LearnModel_output/emissions_10.txt\n",
            "Writing to file LearnModel_output/emissions_10.svg\n",
            "Writing to file LearnModel_output/emissions_10.png\n",
            "Writing to file LearnModel_output/transitions_10.png\n",
            "Writing to file LearnModel_output/transitions_10.svg\n",
            "Writing to file LearnModel_output/model_10.txt\n",
            " Iteration  Estimated Log Likelihood     Change    Total Time (secs)\n",
            "         1             -12517764.350          -                 17.5\n",
            "         2             -10902854.093 1614910.257                 33.5\n",
            "         3             -10449057.373 453796.720                 45.3\n",
            "         4             -10305064.805 143992.567                 56.9\n",
            "         5             -10243827.450  61237.356                 68.4\n",
            "         6             -10183248.287  60579.163                 85.0\n",
            "         7             -10087199.067  96049.220                106.8\n",
            "         8             -10030121.627  57077.440                121.2\n",
            "         9             -10013716.781  16404.846                133.1\n",
            "        10             -10008725.283   4991.498                145.1\n",
            "        11             -10006296.108   2429.176                156.4\n",
            "        12             -10004584.454   1711.654                170.3\n",
            "        13             -10002975.733   1608.721                181.4\n",
            "        14             -10000807.106   2168.627                199.2\n",
            "        15              -9998883.494   1923.611                211.3\n",
            "        16              -9997721.534   1161.960                223.1\n",
            "        17              -9996943.641    777.893                235.0\n",
            "        18              -9996240.757    702.885                246.4\n",
            "        19              -9995344.579    896.178                257.4\n",
            "        20              -9993760.440   1584.139                269.3\n",
            "        21              -9990117.551   3642.889                281.1\n",
            "        22              -9983929.862   6187.690                293.0\n",
            "        23              -9979102.922   4826.940                305.0\n",
            "        24              -9976728.068   2374.854                316.8\n",
            "        25              -9975624.144   1103.924                328.7\n",
            "        26              -9975075.150    548.994                340.5\n",
            "        27              -9974774.923    300.228                352.4\n",
            "        28              -9974597.449    177.473                364.3\n",
            "        29              -9974481.085    116.365                376.5\n",
            "        30              -9974395.255     85.830                388.6\n",
            "        31              -9974323.917     71.337                400.4\n",
            "        32              -9974258.276     65.641                411.9\n",
            "        33              -9974193.101     65.175                423.6\n",
            "        34              -9974124.886     68.215                435.7\n",
            "        35              -9974050.931     73.954                447.9\n",
            "        36              -9973968.874     82.058                460.0\n",
            "        37              -9973876.400     92.474                472.2\n",
            "        38              -9973771.071    105.329                484.4\n",
            "        39              -9973650.189    120.881                496.6\n",
            "        40              -9973510.699    139.490                508.7\n",
            "        41              -9973349.103    161.596                520.9\n",
            "        42              -9973161.404    187.699                533.1\n",
            "        43              -9972943.077    218.327                545.2\n",
            "        44              -9972689.072    254.005                557.4\n",
            "        45              -9972393.847    295.225                569.5\n",
            "        46              -9972051.413    342.435                581.6\n",
            "        47              -9971655.324    396.089                593.7\n",
            "        48              -9971198.600    456.724                605.9\n",
            "        49              -9970673.425    525.175                617.9\n",
            "        50              -9970070.523    602.902                629.4\n",
            "        51              -9969378.161    692.362                641.0\n",
            "        52              -9968580.447    797.714                653.3\n",
            "        53              -9967652.130    928.318                665.4\n",
            "        54              -9966547.451   1104.679                677.6\n",
            "        55              -9965178.261   1369.189                691.1\n",
            "        56              -9963395.500   1782.761                703.3\n",
            "        57              -9961031.716   2363.785                715.4\n",
            "        58              -9958043.872   2987.843                727.7\n",
            "        59              -9954618.614   3425.258                740.0\n",
            "        60              -9950969.490   3649.124                752.3\n",
            "        61              -9947088.915   3880.575                764.6\n",
            "        62              -9942833.866   4255.048                776.8\n",
            "        63              -9938472.048   4361.818                789.2\n",
            "        64              -9934818.270   3653.779                805.3\n",
            "        65              -9932089.321   2728.948                817.6\n",
            "        66              -9930066.803   2022.518                829.9\n",
            "        67              -9928510.016   1556.787                842.3\n",
            "        68              -9927223.485   1286.531                854.6\n",
            "        69              -9926043.807   1179.678                866.9\n",
            "        70              -9924803.109   1240.698                879.2\n",
            "        71              -9923296.378   1506.731                891.5\n",
            "        72              -9921280.404   2015.974                904.0\n",
            "        73              -9918772.201   2508.202                916.4\n",
            "        74              -9916556.872   2215.329                928.6\n",
            "        75              -9914908.979   1647.893                940.4\n",
            "        76              -9913598.524   1310.455                952.2\n",
            "        77              -9912530.598   1067.926                964.2\n",
            "        78              -9911659.753    870.845                976.6\n",
            "        79              -9910953.981    705.771                989.1\n",
            "        80              -9910387.253    566.728               1001.6\n",
            "        81              -9909937.177    450.076               1014.2\n",
            "        82              -9909583.952    353.225               1026.7\n",
            "        83              -9909310.121    273.832               1039.2\n",
            "        84              -9909100.539    209.582               1051.7\n",
            "        85              -9908942.138    158.401               1064.2\n",
            "        86              -9908823.765    118.373               1076.7\n",
            "        87              -9908736.135     87.629               1089.2\n",
            "        88              -9908671.743     64.392               1101.8\n",
            "        89              -9908624.682     47.061               1114.2\n",
            "        90              -9908590.408     34.274               1126.7\n",
            "        91              -9908565.490     24.918               1139.2\n",
            "        92              -9908547.372     18.118               1151.9\n",
            "        93              -9908534.172     13.199               1164.5\n",
            "        94              -9908524.520      9.652               1176.9\n",
            "        95              -9908517.425      7.096               1189.5\n",
            "        96              -9908512.171      5.254               1202.1\n",
            "        97              -9908508.249      3.922               1214.7\n",
            "        98              -9908505.294      2.955               1228.6\n",
            "        99              -9908503.044      2.250               1241.2\n",
            "       100              -9908501.312      1.732               1253.7\n",
            "       101              -9908499.964      1.348               1266.7\n",
            "       102              -9908498.904      1.060               1279.9\n",
            "       103              -9908498.061      0.843               1292.8\n",
            "       104              -9908497.384      0.678               1305.4\n",
            "       105              -9908496.834      0.550               1318.0\n",
            "       106              -9908496.384      0.450               1330.4\n",
            "       107              -9908496.013      0.371               1343.0\n",
            "       108              -9908495.704      0.309               1355.5\n",
            "       109              -9908495.445      0.258               1368.0\n",
            "       110              -9908495.228      0.218               1380.5\n",
            "       111              -9908495.043      0.184               1393.1\n",
            "       112              -9908494.887      0.157               1405.6\n",
            "       113              -9908494.753      0.134               1418.1\n",
            "       114              -9908494.638      0.115               1430.6\n",
            "       115              -9908494.539      0.099               1443.2\n",
            "       116              -9908494.454      0.085               1455.8\n",
            "       117              -9908494.381      0.073               1468.4\n",
            "       118              -9908494.317      0.064               1480.7\n",
            "       119              -9908494.261      0.055               1492.9\n",
            "       120              -9908494.213      0.048               1505.0\n",
            "       121              -9908494.171      0.042               1517.5\n",
            "       122              -9908494.134      0.037               1530.6\n",
            "       123              -9908494.103      0.032               1542.7\n",
            "       124              -9908494.074      0.028               1555.1\n",
            "       125              -9908494.050      0.024               1567.6\n",
            "       126              -9908494.028      0.022               1580.1\n",
            "       127              -9908494.010      0.019               1592.7\n",
            "       128              -9908493.993      0.017               1605.2\n",
            "       129              -9908493.978      0.015               1617.8\n",
            "       130              -9908493.966      0.013               1630.3\n",
            "       131              -9908493.955      0.011               1642.9\n",
            "       132              -9908493.944      0.010               1655.4\n",
            "       133              -9908493.936      0.009               1668.0\n",
            "       134              -9908493.928      0.008               1680.5\n",
            "       135              -9908493.921      0.007               1693.3\n",
            "       136              -9908493.915      0.006               1705.8\n",
            "       137              -9908493.910      0.005               1718.4\n",
            "       138              -9908493.905      0.005               1730.9\n",
            "       139              -9908493.901      0.004               1743.3\n",
            "       140              -9908493.898      0.004               1757.3\n",
            "       141              -9908493.895      0.003               1769.8\n",
            "       142              -9908493.892      0.003               1782.3\n",
            "       143              -9908493.889      0.003               1794.8\n",
            "       144              -9908493.887      0.002               1807.2\n",
            "       145              -9908493.885      0.002               1819.8\n",
            "       146              -9908493.884      0.002               1832.3\n",
            "       147              -9908493.882      0.002               1844.7\n",
            "       148              -9908493.881      0.001               1857.3\n",
            "       149              -9908493.880      0.001               1869.7\n",
            "       150              -9908493.879      0.001               1882.3\n",
            "       151              -9908493.878      0.001               1894.8\n",
            "Writing to file LearnModel_output/Dnd41_10_segments.bed\n",
            "Writing to file LearnModel_output/Dnd41_10_dense.bed\n",
            "Writing to file LearnModel_output/Dnd41_10_expanded.bed\n",
            "Writing to file LearnModel_output/Dnd41_10_overlap.txt\n",
            "Writing to file LearnModel_output/Dnd41_10_overlap.png\n",
            "Writing to file LearnModel_output/Dnd41_10_overlap.svg\n",
            "Writing to file LearnModel_output/Dnd41_10_RefSeqTSS_neighborhood.txt\n",
            "Writing to file LearnModel_output/Dnd41_10_RefSeqTSS_neighborhood.png\n",
            "Writing to file LearnModel_output/Dnd41_10_RefSeqTSS_neighborhood.svg\n",
            "Writing to file LearnModel_output/Dnd41_10_RefSeqTES_neighborhood.txt\n",
            "Writing to file LearnModel_output/Dnd41_10_RefSeqTES_neighborhood.png\n",
            "Writing to file LearnModel_output/Dnd41_10_RefSeqTES_neighborhood.svg\n",
            "Warning could not automatically open in a browser LearnModel_output/webpage_10.html\n"
          ]
        }
      ]
    },
    {
      "cell_type": "code",
      "source": [
        "!head /content/LearnModel_output/Dnd41_10_dense.bed"
      ],
      "metadata": {
        "colab": {
          "base_uri": "https://localhost:8080/"
        },
        "id": "mvl_aZYRjFBU",
        "outputId": "8af513c0-2960-4c5a-c116-cd4b1340f691"
      },
      "execution_count": 34,
      "outputs": [
        {
          "output_type": "stream",
          "name": "stdout",
          "text": [
            "track name=\"Dnd41_10\" description=\"Dnd41_10 (Emission ordered)\" visibility=1 itemRgb=\"On\"\n",
            "chr10\t0\t74000\t9\t0\t.\t0\t74000\t255,255,0\n",
            "chr10\t74000\t74400\t8\t0\t.\t74000\t74400\t204,204,102\n",
            "chr10\t74400\t103200\t9\t0\t.\t74400\t103200\t255,255,0\n",
            "chr10\t103200\t104400\t8\t0\t.\t103200\t104400\t204,204,102\n",
            "chr10\t104400\t141600\t9\t0\t.\t104400\t141600\t255,255,0\n",
            "chr10\t141600\t146200\t8\t0\t.\t141600\t146200\t204,204,102\n",
            "chr10\t146200\t149600\t9\t0\t.\t146200\t149600\t255,255,0\n",
            "chr10\t149600\t151600\t8\t0\t.\t149600\t151600\t204,204,102\n",
            "chr10\t151600\t162800\t9\t0\t.\t151600\t162800\t255,255,0\n"
          ]
        }
      ]
    },
    {
      "cell_type": "code",
      "source": [
        "import pandas as pd\n",
        "\n",
        "df = pd.read_csv('/content/LearnModel_output/Dnd41_10_dense.bed', sep='\\t', skiprows=[0], header=None)"
      ],
      "metadata": {
        "id": "VxR3uL6djOeT"
      },
      "execution_count": 36,
      "outputs": []
    },
    {
      "cell_type": "code",
      "source": [
        "df.head"
      ],
      "metadata": {
        "colab": {
          "base_uri": "https://localhost:8080/"
        },
        "id": "KfIy7-jbjhi7",
        "outputId": "d1d0ccd9-c38a-4aac-8e98-2676fa2e0cbf"
      },
      "execution_count": 37,
      "outputs": [
        {
          "output_type": "execute_result",
          "data": {
            "text/plain": [
              "<bound method NDFrame.head of             0         1         2  3  4  5         6         7            8\n",
              "0       chr10         0     74000  9  0  .         0     74000    255,255,0\n",
              "1       chr10     74000     74400  8  0  .     74000     74400  204,204,102\n",
              "2       chr10     74400    103200  9  0  .     74400    103200    255,255,0\n",
              "3       chr10    103200    104400  8  0  .    103200    104400  204,204,102\n",
              "4       chr10    104400    141600  9  0  .    104400    141600    255,255,0\n",
              "...       ...       ...       ... .. .. ..       ...       ...          ...\n",
              "389078   chrY  59001400  59001600  2  0  .  59001400  59001600    0,153,204\n",
              "389079   chrY  59001600  59002200  1  0  .  59001600  59002200      0,0,255\n",
              "389080   chrY  59002200  59002600  2  0  .  59002200  59002600    0,153,204\n",
              "389081   chrY  59002600  59033000  8  0  .  59002600  59033000  204,204,102\n",
              "389082   chrY  59033000  59373400  9  0  .  59033000  59373400    255,255,0\n",
              "\n",
              "[389083 rows x 9 columns]>"
            ]
          },
          "metadata": {},
          "execution_count": 37
        }
      ]
    },
    {
      "cell_type": "code",
      "source": [
        "states = [\n",
        "  'promoter',\n",
        "  'heterochromatin',\n",
        "  'enhancer',\n",
        "  'transcribed_gene',\n",
        "  'transcribed_gene',\n",
        "  'transcribed_gene',\n",
        "  'exon',\n",
        "  'heterochromatin',\n",
        "  'heterochromatin',\n",
        "  'heterochromatin'\n",
        "]\n",
        "\n",
        "df[3] = df[3].apply(lambda x: states[x-1])"
      ],
      "metadata": {
        "id": "EX5XGg3LjkLf"
      },
      "execution_count": 38,
      "outputs": []
    },
    {
      "cell_type": "code",
      "source": [
        "df.head"
      ],
      "metadata": {
        "colab": {
          "base_uri": "https://localhost:8080/"
        },
        "id": "LDhHKCDCjpTS",
        "outputId": "44f7e8d2-20f0-4356-e2c8-4ef872d28c1d"
      },
      "execution_count": 39,
      "outputs": [
        {
          "output_type": "execute_result",
          "data": {
            "text/plain": [
              "<bound method NDFrame.head of             0         1         2                3  4  5         6         7  \\\n",
              "0       chr10         0     74000  heterochromatin  0  .         0     74000   \n",
              "1       chr10     74000     74400  heterochromatin  0  .     74000     74400   \n",
              "2       chr10     74400    103200  heterochromatin  0  .     74400    103200   \n",
              "3       chr10    103200    104400  heterochromatin  0  .    103200    104400   \n",
              "4       chr10    104400    141600  heterochromatin  0  .    104400    141600   \n",
              "...       ...       ...       ...              ... .. ..       ...       ...   \n",
              "389078   chrY  59001400  59001600  heterochromatin  0  .  59001400  59001600   \n",
              "389079   chrY  59001600  59002200         promoter  0  .  59001600  59002200   \n",
              "389080   chrY  59002200  59002600  heterochromatin  0  .  59002200  59002600   \n",
              "389081   chrY  59002600  59033000  heterochromatin  0  .  59002600  59033000   \n",
              "389082   chrY  59033000  59373400  heterochromatin  0  .  59033000  59373400   \n",
              "\n",
              "                  8  \n",
              "0         255,255,0  \n",
              "1       204,204,102  \n",
              "2         255,255,0  \n",
              "3       204,204,102  \n",
              "4         255,255,0  \n",
              "...             ...  \n",
              "389078    0,153,204  \n",
              "389079      0,0,255  \n",
              "389080    0,153,204  \n",
              "389081  204,204,102  \n",
              "389082    255,255,0  \n",
              "\n",
              "[389083 rows x 9 columns]>"
            ]
          },
          "metadata": {},
          "execution_count": 39
        }
      ]
    },
    {
      "cell_type": "code",
      "source": [
        "import csv\n",
        "\n",
        "df.to_csv(\n",
        "    'dnd41.bed', \n",
        "    sep='\\t', \n",
        "    quoting=csv.QUOTE_NONE, \n",
        "    header=['track name=\"Dnd41_10\"', 'description=\"Dnd41_10 (Emission ordered)\"', 'visibility=1', 'itemRgb=\"On\"','','','','',''],\n",
        "    index=False\n",
        "    )"
      ],
      "metadata": {
        "id": "w_OdgqhJjqVc"
      },
      "execution_count": 40,
      "outputs": []
    },
    {
      "cell_type": "code",
      "source": [
        "!head dnd41.bed"
      ],
      "metadata": {
        "colab": {
          "base_uri": "https://localhost:8080/"
        },
        "id": "4Rwz_MxdjuUM",
        "outputId": "49497334-c6f8-494b-b19a-5430db95b579"
      },
      "execution_count": 41,
      "outputs": [
        {
          "output_type": "stream",
          "name": "stdout",
          "text": [
            "track name=\"Dnd41_10\"\tdescription=\"Dnd41_10 (Emission ordered)\"\tvisibility=1\titemRgb=\"On\"\t\t\t\t\t\n",
            "chr10\t0\t74000\theterochromatin\t0\t.\t0\t74000\t255,255,0\n",
            "chr10\t74000\t74400\theterochromatin\t0\t.\t74000\t74400\t204,204,102\n",
            "chr10\t74400\t103200\theterochromatin\t0\t.\t74400\t103200\t255,255,0\n",
            "chr10\t103200\t104400\theterochromatin\t0\t.\t103200\t104400\t204,204,102\n",
            "chr10\t104400\t141600\theterochromatin\t0\t.\t104400\t141600\t255,255,0\n",
            "chr10\t141600\t146200\theterochromatin\t0\t.\t141600\t146200\t204,204,102\n",
            "chr10\t146200\t149600\theterochromatin\t0\t.\t146200\t149600\t255,255,0\n",
            "chr10\t149600\t151600\theterochromatin\t0\t.\t149600\t151600\t204,204,102\n",
            "chr10\t151600\t162800\theterochromatin\t0\t.\t151600\t162800\t255,255,0\n"
          ]
        }
      ]
    }
  ],
  "metadata": {
    "colab": {
      "provenance": []
    },
    "kernelspec": {
      "display_name": "Python 3",
      "name": "python3"
    },
    "language_info": {
      "name": "python"
    }
  },
  "nbformat": 4,
  "nbformat_minor": 0
}